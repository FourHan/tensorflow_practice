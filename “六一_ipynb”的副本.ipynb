{
  "nbformat": 4,
  "nbformat_minor": 0,
  "metadata": {
    "kernelspec": {
      "display_name": "python35",
      "language": "python",
      "name": "python35"
    },
    "language_info": {
      "codemirror_mode": {
        "name": "ipython",
        "version": 3
      },
      "file_extension": ".py",
      "mimetype": "text/x-python",
      "name": "python",
      "nbconvert_exporter": "python",
      "pygments_lexer": "ipython3",
      "version": "3.5.2"
    },
    "colab": {
      "name": "“六一.ipynb”的副本",
      "provenance": [],
      "include_colab_link": true
    }
  },
  "cells": [
    {
      "cell_type": "markdown",
      "metadata": {
        "id": "view-in-github",
        "colab_type": "text"
      },
      "source": [
        "<a href=\"https://colab.research.google.com/github/FourHan/tensorflow_practice/blob/master/%E2%80%9C%E5%85%AD%E4%B8%80_ipynb%E2%80%9D%E7%9A%84%E5%89%AF%E6%9C%AC.ipynb\" target=\"_parent\"><img src=\"https://colab.research.google.com/assets/colab-badge.svg\" alt=\"Open In Colab\"/></a>"
      ]
    },
    {
      "cell_type": "code",
      "metadata": {
        "id": "WppewJ4F4cvp",
        "colab_type": "code",
        "colab": {}
      },
      "source": [
        "from skimage import io\n",
        "import matplotlib.pyplot as plt\n",
        "\n",
        "num = 1\n",
        "\n",
        "\n",
        "def show():\n",
        "    global num\n",
        "\n",
        "\n",
        "    while (num < 5):\n",
        "        img = io.imread('/Users/meituan_sxw/PycharmProjects/tensorflow1.2/basic/pic/' + str(num) + '.jpeg')\n",
        "        io.imshow(img)\n",
        "        plt.ion()\n",
        "        plt.pause(0.01)\n",
        "        #input(\"Press Enter to Continue\")  # 之后改成识别输出\n",
        "        num += 1"
      ],
      "execution_count": 0,
      "outputs": []
    },
    {
      "cell_type": "code",
      "metadata": {
        "id": "YsgXMcLG4gIz",
        "colab_type": "code",
        "colab": {}
      },
      "source": [
        "'goood'"
      ],
      "execution_count": 0,
      "outputs": []
    },
    {
      "cell_type": "code",
      "metadata": {
        "id": "RJCvcAbC4cvs",
        "colab_type": "code",
        "outputId": "e7def87f-b666-4de2-9c4c-c0696940ad26",
        "colab": {}
      },
      "source": [
        "show()\n"
      ],
      "execution_count": 0,
      "outputs": [
        {
          "output_type": "stream",
          "text": [
            "JPEG (200, 110) RGB\n",
            "JPEG (200, 150) RGB\n",
            "JPEG (200, 150) RGB\n",
            "JPEG (200, 112) RGB\n",
            "JPEG (200, 112) RGB\n",
            "JPEG (200, 133) RGB\n",
            "JPEG (200, 132) RGB\n",
            "JPEG (200, 120) RGB\n",
            "JPEG (187, 150) RGB\n",
            "JPEG (200, 122) RGB\n",
            "JPEG (200, 133) RGB\n",
            "JPEG (200, 120) RGB\n",
            "JPEG (200, 124) RGB\n",
            "JPEG (200, 150) RGB\n",
            "JPEG (200, 124) RGB\n",
            "JPEG (200, 150) RGB\n",
            "JPEG (200, 141) RGB\n",
            "JPEG (200, 132) RGB\n",
            "JPEG (200, 113) RGB\n",
            "JPEG (200, 112) RGB\n",
            "JPEG (200, 110) RGB\n",
            "JPEG (200, 150) RGB\n",
            "JPEG (200, 124) RGB\n",
            "JPEG (200, 120) RGB\n",
            "JPEG (187, 150) RGB\n",
            "JPEG (187, 150) RGB\n",
            "JPEG (200, 124) RGB\n",
            "JPEG (200, 130) RGB\n",
            "JPEG (200, 112) RGB\n",
            "JPEG (200, 150) RGB\n",
            "JPEG (200, 124) RGB\n",
            "JPEG (200, 134) RGB\n",
            "JPEG (200, 144) RGB\n",
            "JPEG (200, 112) RGB\n",
            "JPEG (200, 112) RGB\n",
            "JPEG (200, 112) RGB\n"
          ],
          "name": "stdout"
        }
      ]
    },
    {
      "cell_type": "code",
      "metadata": {
        "id": "4e3aBFaY4cvu",
        "colab_type": "code",
        "outputId": "52950712-cd14-470f-9bdb-d610153d955a",
        "colab": {}
      },
      "source": [
        "\n",
        "import matplotlib.pyplot as plt\n",
        "import imageio,os\n",
        "\n",
        "\n",
        "name_list = ['shumabaobei','siquxiongdi','shenqibaobei','shengdoushi','weiqishaonian','lanmaotaoqi',\n",
        "            'guangnengshizhe','qilongzhu','duolaameng','labixiaoxin','youxiwang','wangqiuwangzi']\n",
        "\n",
        "for i in range(12):\n",
        "    num = i * 3 + 1\n",
        "    maxnum = num + 2\n",
        "    images = []\n",
        "    while (num <= maxnum):\n",
        "        print(num)\n",
        "        images.append(imageio.imread('/Users/meituan_sxw/PycharmProjects/tensorflow1.2/basic/pic/' + str(num) + '.jpeg'))\n",
        "        num += 1\n",
        "    imageio.mimsave(name_list[i] + '.gif', images,duration=1)"
      ],
      "execution_count": 0,
      "outputs": [
        {
          "output_type": "stream",
          "text": [
            "1\n",
            "2\n",
            "3\n",
            "4\n",
            "5\n",
            "6\n",
            "7\n",
            "8\n",
            "9\n",
            "10\n",
            "11\n",
            "12\n",
            "13\n",
            "14\n",
            "15\n",
            "16\n",
            "17\n",
            "18\n",
            "19\n",
            "20\n",
            "21\n",
            "22\n",
            "23\n",
            "24\n",
            "25\n",
            "26\n",
            "27\n",
            "28\n",
            "29\n",
            "30\n",
            "31\n",
            "32\n",
            "33\n",
            "34\n",
            "35\n",
            "36\n"
          ],
          "name": "stdout"
        }
      ]
    },
    {
      "cell_type": "code",
      "metadata": {
        "id": "T8NROubI4cvw",
        "colab_type": "code",
        "colab": {}
      },
      "source": [
        ""
      ],
      "execution_count": 0,
      "outputs": []
    },
    {
      "cell_type": "code",
      "metadata": {
        "id": "70PQwfwa4cvx",
        "colab_type": "code",
        "colab": {}
      },
      "source": [
        ""
      ],
      "execution_count": 0,
      "outputs": []
    }
  ]
}